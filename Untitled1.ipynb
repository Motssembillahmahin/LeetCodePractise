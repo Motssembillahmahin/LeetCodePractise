{
 "cells": [
  {
   "cell_type": "code",
   "execution_count": 27,
   "id": "8b913e67-c8c7-485f-8493-7b45ca8973e5",
   "metadata": {},
   "outputs": [
    {
     "ename": "TypeError",
     "evalue": "'str' object is not callable",
     "output_type": "error",
     "traceback": [
      "\u001b[0;31m---------------------------------------------------------------------------\u001b[0m",
      "\u001b[0;31mTypeError\u001b[0m                                 Traceback (most recent call last)",
      "Cell \u001b[0;32mIn[27], line 1\u001b[0m\n\u001b[0;32m----> 1\u001b[0m \u001b[38;5;28minput\u001b[39m(\u001b[38;5;124m\"\u001b[39m\u001b[38;5;124mHello\u001b[39m\u001b[38;5;124m\"\u001b[39m)\n",
      "\u001b[0;31mTypeError\u001b[0m: 'str' object is not callable"
     ]
    }
   ],
   "source": [
    "input(\"Hello\")"
   ]
  },
  {
   "cell_type": "code",
   "execution_count": 31,
   "id": "5c9ed1fe-ebb0-4b88-ba6d-e634ea88f7c3",
   "metadata": {},
   "outputs": [],
   "source": [
    "nums = [0, 0, 0, 1, 1, 2, 2, 3, 3, 4]\n",
    "list = []\n",
    "\n",
    "for i in range(len(nums)):\n",
    "    if nums[i] != nums[i-1]:\n",
    "        list.append(nums[i])"
   ]
  },
  {
   "cell_type": "code",
   "execution_count": 33,
   "id": "25092088-b4a1-486d-829d-b0829b1efa08",
   "metadata": {},
   "outputs": [
    {
     "data": {
      "text/plain": [
       "5"
      ]
     },
     "execution_count": 33,
     "metadata": {},
     "output_type": "execute_result"
    }
   ],
   "source": [
    "len(list)"
   ]
  },
  {
   "cell_type": "code",
   "execution_count": 37,
   "id": "8ddb47b6-41db-4fa3-91d7-a56a22c35ae7",
   "metadata": {},
   "outputs": [
    {
     "name": "stdout",
     "output_type": "stream",
     "text": [
      "[2, 2]\n"
     ]
    }
   ],
   "source": [
    "my_list = [3,2,2,3]\n",
    "my_list = [x for x in my_list if x != 3]  # Removes all occurrences of 3\n",
    "print(my_list)  # Output: [1, 2, 4, 5]"
   ]
  },
  {
   "cell_type": "code",
   "execution_count": 35,
   "id": "4cc05532-db93-4588-bda4-3e6306b989fc",
   "metadata": {},
   "outputs": [
    {
     "ename": "SyntaxError",
     "evalue": "'return' outside function (104287828.py, line 3)",
     "output_type": "error",
     "traceback": [
      "\u001b[0;36m  Cell \u001b[0;32mIn[35], line 3\u001b[0;36m\u001b[0m\n\u001b[0;31m    return my_list\u001b[0m\n\u001b[0m    ^\u001b[0m\n\u001b[0;31mSyntaxError\u001b[0m\u001b[0;31m:\u001b[0m 'return' outside function\n"
     ]
    }
   ],
   "source": [
    "for i in range(len(my_list)):\n",
    "    if i != 3:\n",
    "        return my_list"
   ]
  },
  {
   "cell_type": "code",
   "execution_count": 47,
   "id": "a3b6de0e-ebbd-4bb8-9974-fd652a2a7bc4",
   "metadata": {},
   "outputs": [],
   "source": [
    "haystack, needle  = \"sadbutsade\", \"sad\"\n"
   ]
  },
  {
   "cell_type": "code",
   "execution_count": 49,
   "id": "c6e089b8-88f4-49df-a1f8-39c714b94e66",
   "metadata": {},
   "outputs": [
    {
     "name": "stdout",
     "output_type": "stream",
     "text": [
      "s\n",
      "a\n",
      "d\n",
      "b\n",
      "u\n",
      "t\n",
      "s\n",
      "a\n",
      "d\n",
      "e\n"
     ]
    }
   ],
   "source": [
    "for i in haystack: \n",
    "    print(i)"
   ]
  },
  {
   "cell_type": "code",
   "execution_count": 51,
   "id": "ad1b3133-c396-4303-b5e6-fbc840b8451c",
   "metadata": {},
   "outputs": [
    {
     "name": "stdout",
     "output_type": "stream",
     "text": [
      "['sad', 'but', 'sad', 'e']\n"
     ]
    }
   ],
   "source": [
    "def split_by_size(s, size):\n",
    "    result = []\n",
    "    for i in range(0, len(s), size):\n",
    "        result.append(s[i:i+size])\n",
    "    return result\n",
    "\n",
    "# Example usage\n",
    "string = haystack\n",
    "size = 3\n",
    "result = split_by_size(string, size)\n",
    "print(result)  # Output: ['abc', 'def', 'ghi', 'jk']"
   ]
  },
  {
   "cell_type": "code",
   "execution_count": 53,
   "id": "53950f49-458a-495b-ad97-88b291cb1c84",
   "metadata": {},
   "outputs": [
    {
     "data": {
      "text/plain": [
       "list"
      ]
     },
     "execution_count": 53,
     "metadata": {},
     "output_type": "execute_result"
    }
   ],
   "source": [
    "type(result)"
   ]
  },
  {
   "cell_type": "code",
   "execution_count": 57,
   "id": "391444ef-d4f9-45f1-af8e-32a8071fe702",
   "metadata": {},
   "outputs": [
    {
     "name": "stdout",
     "output_type": "stream",
     "text": [
      "0\n",
      "-1\n",
      "0\n",
      "-1\n"
     ]
    }
   ],
   "source": [
    "for i in result:\n",
    "    if i == needle:\n",
    "        print(result.index(i))\n",
    "    else:\n",
    "        print(-1)"
   ]
  },
  {
   "cell_type": "code",
   "execution_count": null,
   "id": "92280598-50c4-4c49-a31d-7302de18da22",
   "metadata": {},
   "outputs": [],
   "source": []
  }
 ],
 "metadata": {
  "kernelspec": {
   "display_name": "Python 3 (ipykernel)",
   "language": "python",
   "name": "python3"
  },
  "language_info": {
   "codemirror_mode": {
    "name": "ipython",
    "version": 3
   },
   "file_extension": ".py",
   "mimetype": "text/x-python",
   "name": "python",
   "nbconvert_exporter": "python",
   "pygments_lexer": "ipython3",
   "version": "3.12.4"
  }
 },
 "nbformat": 4,
 "nbformat_minor": 5
}
