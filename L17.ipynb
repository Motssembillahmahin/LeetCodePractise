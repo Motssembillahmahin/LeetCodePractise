{
 "cells": [
  {
   "cell_type": "code",
   "execution_count": 13,
   "id": "fb748256-167a-4d85-b790-a7ec181b549a",
   "metadata": {},
   "outputs": [],
   "source": [
    "dict = {\n",
    "    '2': 'abc',\n",
    "    '3': 'def',\n",
    "    '4': 'ghi',\n",
    "    '5': 'jkl',\n",
    "    '6': 'mno',\n",
    "    '7': 'pqrs',\n",
    "    '8': 'tuv',\n",
    "    '9': 'wxyz'\n",
    "}"
   ]
  },
  {
   "cell_type": "code",
   "execution_count": 21,
   "id": "eae143d8-f75b-4f97-a3cb-cec6650e77f6",
   "metadata": {},
   "outputs": [
    {
     "name": "stdout",
     "output_type": "stream",
     "text": [
      "2\n",
      "3\n",
      "4\n",
      "5\n",
      "6\n",
      "7\n",
      "8\n",
      "9\n"
     ]
    }
   ],
   "source": [
    "for value in :\n",
    "    print(value)"
   ]
  },
  {
   "cell_type": "code",
   "execution_count": 23,
   "id": "46ccd750-5fee-4381-9a6b-6e9e3bc0f60f",
   "metadata": {},
   "outputs": [
    {
     "data": {
      "text/plain": [
       "dict_keys(['2', '3', '4', '5', '6', '7', '8', '9'])"
      ]
     },
     "execution_count": 23,
     "metadata": {},
     "output_type": "execute_result"
    }
   ],
   "source": [
    "dict.keys()"
   ]
  },
  {
   "cell_type": "code",
   "execution_count": 25,
   "id": "89076a3b-5669-4b02-893f-f62d87906583",
   "metadata": {},
   "outputs": [
    {
     "data": {
      "text/plain": [
       "dict_keys"
      ]
     },
     "execution_count": 25,
     "metadata": {},
     "output_type": "execute_result"
    }
   ],
   "source": [
    "type(dict.keys())"
   ]
  },
  {
   "cell_type": "code",
   "execution_count": 29,
   "id": "bc6458f6-5ff4-409d-b708-997140ebbae3",
   "metadata": {},
   "outputs": [
    {
     "data": {
      "text/plain": [
       "'abc'"
      ]
     },
     "execution_count": 29,
     "metadata": {},
     "output_type": "execute_result"
    }
   ],
   "source": [
    "dict['2']"
   ]
  },
  {
   "cell_type": "code",
   "execution_count": 47,
   "id": "8a9d5a5c-a50d-433e-9c9f-64356322d95c",
   "metadata": {},
   "outputs": [],
   "source": [
    "input = '23'"
   ]
  },
  {
   "cell_type": "code",
   "execution_count": 56,
   "id": "f6441fc0-020f-42ef-88b7-51de20052409",
   "metadata": {},
   "outputs": [],
   "source": [
    "list = []"
   ]
  },
  {
   "cell_type": "code",
   "execution_count": 53,
   "id": "f5769aed-595b-4270-9294-337677a6c24c",
   "metadata": {},
   "outputs": [],
   "source": [
    "for i in input:\n",
    "    if len(input) < 0:\n",
    "        break\n",
    "    if len(input) > 0:\n",
    "        for j in dict[i]:"
   ]
  },
  {
   "cell_type": "code",
   "execution_count": null,
   "id": "c44e3052-4183-463f-8685-72c13ff1f0c5",
   "metadata": {},
   "outputs": [],
   "source": []
  },
  {
   "cell_type": "code",
   "execution_count": null,
   "id": "199789c1-0b25-4448-89e3-cc80e1fca37a",
   "metadata": {},
   "outputs": [],
   "source": []
  }
 ],
 "metadata": {
  "kernelspec": {
   "display_name": "Python 3 (ipykernel)",
   "language": "python",
   "name": "python3"
  },
  "language_info": {
   "codemirror_mode": {
    "name": "ipython",
    "version": 3
   },
   "file_extension": ".py",
   "mimetype": "text/x-python",
   "name": "python",
   "nbconvert_exporter": "python",
   "pygments_lexer": "ipython3",
   "version": "3.12.4"
  }
 },
 "nbformat": 4,
 "nbformat_minor": 5
}
