{
 "cells": [
  {
   "cell_type": "code",
   "execution_count": 1,
   "id": "582f4898-4673-4077-ac28-1a3b142eb9b1",
   "metadata": {},
   "outputs": [],
   "source": [
    "list = [1, 8, 6, 2, 5, 4, 8, 3, 7]"
   ]
  },
  {
   "cell_type": "code",
   "execution_count": 3,
   "id": "5ab86390-c214-4f14-9aa9-09894cac0df8",
   "metadata": {},
   "outputs": [
    {
     "data": {
      "text/plain": [
       "1"
      ]
     },
     "execution_count": 3,
     "metadata": {},
     "output_type": "execute_result"
    }
   ],
   "source": [
    "value_1 = list[0]\n",
    "value_1"
   ]
  },
  {
   "cell_type": "code",
   "execution_count": 5,
   "id": "c48c3356-030e-4e65-a797-b8c0cc4d1b10",
   "metadata": {},
   "outputs": [
    {
     "data": {
      "text/plain": [
       "8"
      ]
     },
     "execution_count": 5,
     "metadata": {},
     "output_type": "execute_result"
    }
   ],
   "source": [
    "value_2 = list[value_1]\n",
    "value_2"
   ]
  },
  {
   "cell_type": "code",
   "execution_count": 11,
   "id": "9ce3d9ed-9bd4-4d8e-8839-fd31e091bfb4",
   "metadata": {},
   "outputs": [],
   "source": [
    "result = list[value_2]**2"
   ]
  },
  {
   "cell_type": "code",
   "execution_count": 13,
   "id": "733ecafe-c162-4398-9ea1-084db2b92e97",
   "metadata": {},
   "outputs": [
    {
     "data": {
      "text/plain": [
       "49"
      ]
     },
     "execution_count": 13,
     "metadata": {},
     "output_type": "execute_result"
    }
   ],
   "source": [
    "result"
   ]
  },
  {
   "cell_type": "code",
   "execution_count": null,
   "id": "81713eec-c7ea-43f3-839b-357f0207bf7e",
   "metadata": {},
   "outputs": [],
   "source": []
  }
 ],
 "metadata": {
  "kernelspec": {
   "display_name": "Python 3 (ipykernel)",
   "language": "python",
   "name": "python3"
  },
  "language_info": {
   "codemirror_mode": {
    "name": "ipython",
    "version": 3
   },
   "file_extension": ".py",
   "mimetype": "text/x-python",
   "name": "python",
   "nbconvert_exporter": "python",
   "pygments_lexer": "ipython3",
   "version": "3.12.4"
  }
 },
 "nbformat": 4,
 "nbformat_minor": 5
}
